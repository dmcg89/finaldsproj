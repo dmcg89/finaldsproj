{
 "cells": [
  {
   "cell_type": "code",
   "execution_count": 5,
   "metadata": {
    "ExecuteTime": {
     "end_time": "2019-07-03T13:07:22.504997Z",
     "start_time": "2019-07-03T13:07:19.090670Z"
    }
   },
   "outputs": [],
   "source": [
    "import numpy as np \n",
    "import pandas as pd\n",
    "import matplotlib.pyplot as plt\n",
    "\n",
    "\n",
    "df = pd.read_csv('./drought_data/us-droughts.csv')"
   ]
  },
  {
   "cell_type": "code",
   "execution_count": 6,
   "metadata": {
    "ExecuteTime": {
     "end_time": "2019-07-03T13:07:22.563335Z",
     "start_time": "2019-07-03T13:07:22.547680Z"
    }
   },
   "outputs": [
    {
     "data": {
      "text/html": [
       "<div>\n",
       "<style scoped>\n",
       "    .dataframe tbody tr th:only-of-type {\n",
       "        vertical-align: middle;\n",
       "    }\n",
       "\n",
       "    .dataframe tbody tr th {\n",
       "        vertical-align: top;\n",
       "    }\n",
       "\n",
       "    .dataframe thead th {\n",
       "        text-align: right;\n",
       "    }\n",
       "</style>\n",
       "<table border=\"1\" class=\"dataframe\">\n",
       "  <thead>\n",
       "    <tr style=\"text-align: right;\">\n",
       "      <th></th>\n",
       "      <th>releaseDate</th>\n",
       "      <th>FIPS</th>\n",
       "      <th>county</th>\n",
       "      <th>state</th>\n",
       "      <th>NONE</th>\n",
       "      <th>D0</th>\n",
       "      <th>D1</th>\n",
       "      <th>D2</th>\n",
       "      <th>D3</th>\n",
       "      <th>D4</th>\n",
       "      <th>validStart</th>\n",
       "      <th>validEnd</th>\n",
       "      <th>domStatisticFormatID</th>\n",
       "    </tr>\n",
       "  </thead>\n",
       "  <tbody>\n",
       "    <tr>\n",
       "      <th>0</th>\n",
       "      <td>2000-11-07</td>\n",
       "      <td>2013</td>\n",
       "      <td>Aleutians East Borough</td>\n",
       "      <td>AK</td>\n",
       "      <td>100.0</td>\n",
       "      <td>0.0</td>\n",
       "      <td>0.0</td>\n",
       "      <td>0.0</td>\n",
       "      <td>0.0</td>\n",
       "      <td>0.0</td>\n",
       "      <td>2000-11-07</td>\n",
       "      <td>2000-11-13</td>\n",
       "      <td>1</td>\n",
       "    </tr>\n",
       "    <tr>\n",
       "      <th>1</th>\n",
       "      <td>2000-10-31</td>\n",
       "      <td>2013</td>\n",
       "      <td>Aleutians East Borough</td>\n",
       "      <td>AK</td>\n",
       "      <td>100.0</td>\n",
       "      <td>0.0</td>\n",
       "      <td>0.0</td>\n",
       "      <td>0.0</td>\n",
       "      <td>0.0</td>\n",
       "      <td>0.0</td>\n",
       "      <td>2000-10-31</td>\n",
       "      <td>2000-11-06</td>\n",
       "      <td>1</td>\n",
       "    </tr>\n",
       "    <tr>\n",
       "      <th>2</th>\n",
       "      <td>2000-10-24</td>\n",
       "      <td>2013</td>\n",
       "      <td>Aleutians East Borough</td>\n",
       "      <td>AK</td>\n",
       "      <td>100.0</td>\n",
       "      <td>0.0</td>\n",
       "      <td>0.0</td>\n",
       "      <td>0.0</td>\n",
       "      <td>0.0</td>\n",
       "      <td>0.0</td>\n",
       "      <td>2000-10-24</td>\n",
       "      <td>2000-10-30</td>\n",
       "      <td>1</td>\n",
       "    </tr>\n",
       "    <tr>\n",
       "      <th>3</th>\n",
       "      <td>2000-10-17</td>\n",
       "      <td>2013</td>\n",
       "      <td>Aleutians East Borough</td>\n",
       "      <td>AK</td>\n",
       "      <td>100.0</td>\n",
       "      <td>0.0</td>\n",
       "      <td>0.0</td>\n",
       "      <td>0.0</td>\n",
       "      <td>0.0</td>\n",
       "      <td>0.0</td>\n",
       "      <td>2000-10-17</td>\n",
       "      <td>2000-10-23</td>\n",
       "      <td>1</td>\n",
       "    </tr>\n",
       "    <tr>\n",
       "      <th>4</th>\n",
       "      <td>2000-10-10</td>\n",
       "      <td>2013</td>\n",
       "      <td>Aleutians East Borough</td>\n",
       "      <td>AK</td>\n",
       "      <td>100.0</td>\n",
       "      <td>0.0</td>\n",
       "      <td>0.0</td>\n",
       "      <td>0.0</td>\n",
       "      <td>0.0</td>\n",
       "      <td>0.0</td>\n",
       "      <td>2000-10-10</td>\n",
       "      <td>2000-10-16</td>\n",
       "      <td>1</td>\n",
       "    </tr>\n",
       "  </tbody>\n",
       "</table>\n",
       "</div>"
      ],
      "text/plain": [
       "  releaseDate  FIPS                  county state   NONE   D0   D1   D2   D3  \\\n",
       "0  2000-11-07  2013  Aleutians East Borough    AK  100.0  0.0  0.0  0.0  0.0   \n",
       "1  2000-10-31  2013  Aleutians East Borough    AK  100.0  0.0  0.0  0.0  0.0   \n",
       "2  2000-10-24  2013  Aleutians East Borough    AK  100.0  0.0  0.0  0.0  0.0   \n",
       "3  2000-10-17  2013  Aleutians East Borough    AK  100.0  0.0  0.0  0.0  0.0   \n",
       "4  2000-10-10  2013  Aleutians East Borough    AK  100.0  0.0  0.0  0.0  0.0   \n",
       "\n",
       "    D4  validStart    validEnd  domStatisticFormatID  \n",
       "0  0.0  2000-11-07  2000-11-13                     1  \n",
       "1  0.0  2000-10-31  2000-11-06                     1  \n",
       "2  0.0  2000-10-24  2000-10-30                     1  \n",
       "3  0.0  2000-10-17  2000-10-23                     1  \n",
       "4  0.0  2000-10-10  2000-10-16                     1  "
      ]
     },
     "execution_count": 6,
     "metadata": {},
     "output_type": "execute_result"
    }
   ],
   "source": [
    "df.head()"
   ]
  },
  {
   "cell_type": "code",
   "execution_count": 8,
   "metadata": {
    "ExecuteTime": {
     "end_time": "2019-07-03T13:07:39.669323Z",
     "start_time": "2019-07-03T13:07:39.646886Z"
    }
   },
   "outputs": [
    {
     "data": {
      "text/html": [
       "<div>\n",
       "<style scoped>\n",
       "    .dataframe tbody tr th:only-of-type {\n",
       "        vertical-align: middle;\n",
       "    }\n",
       "\n",
       "    .dataframe tbody tr th {\n",
       "        vertical-align: top;\n",
       "    }\n",
       "\n",
       "    .dataframe thead th {\n",
       "        text-align: right;\n",
       "    }\n",
       "</style>\n",
       "<table border=\"1\" class=\"dataframe\">\n",
       "  <thead>\n",
       "    <tr style=\"text-align: right;\">\n",
       "      <th></th>\n",
       "      <th>releaseDate</th>\n",
       "      <th>FIPS</th>\n",
       "      <th>county</th>\n",
       "      <th>state</th>\n",
       "      <th>NONE</th>\n",
       "      <th>D0</th>\n",
       "      <th>D1</th>\n",
       "      <th>D2</th>\n",
       "      <th>D3</th>\n",
       "      <th>D4</th>\n",
       "      <th>validStart</th>\n",
       "      <th>validEnd</th>\n",
       "      <th>domStatisticFormatID</th>\n",
       "    </tr>\n",
       "  </thead>\n",
       "  <tbody>\n",
       "    <tr>\n",
       "      <th>8280</th>\n",
       "      <td>2000-11-07</td>\n",
       "      <td>6001</td>\n",
       "      <td>Alameda County</td>\n",
       "      <td>CA</td>\n",
       "      <td>100.0</td>\n",
       "      <td>0.0</td>\n",
       "      <td>0.0</td>\n",
       "      <td>0.0</td>\n",
       "      <td>0.0</td>\n",
       "      <td>0.0</td>\n",
       "      <td>2000-11-07</td>\n",
       "      <td>2000-11-13</td>\n",
       "      <td>1</td>\n",
       "    </tr>\n",
       "    <tr>\n",
       "      <th>8281</th>\n",
       "      <td>2000-10-31</td>\n",
       "      <td>6001</td>\n",
       "      <td>Alameda County</td>\n",
       "      <td>CA</td>\n",
       "      <td>100.0</td>\n",
       "      <td>0.0</td>\n",
       "      <td>0.0</td>\n",
       "      <td>0.0</td>\n",
       "      <td>0.0</td>\n",
       "      <td>0.0</td>\n",
       "      <td>2000-10-31</td>\n",
       "      <td>2000-11-06</td>\n",
       "      <td>1</td>\n",
       "    </tr>\n",
       "    <tr>\n",
       "      <th>8282</th>\n",
       "      <td>2000-10-24</td>\n",
       "      <td>6001</td>\n",
       "      <td>Alameda County</td>\n",
       "      <td>CA</td>\n",
       "      <td>100.0</td>\n",
       "      <td>0.0</td>\n",
       "      <td>0.0</td>\n",
       "      <td>0.0</td>\n",
       "      <td>0.0</td>\n",
       "      <td>0.0</td>\n",
       "      <td>2000-10-24</td>\n",
       "      <td>2000-10-30</td>\n",
       "      <td>1</td>\n",
       "    </tr>\n",
       "    <tr>\n",
       "      <th>8283</th>\n",
       "      <td>2000-10-17</td>\n",
       "      <td>6001</td>\n",
       "      <td>Alameda County</td>\n",
       "      <td>CA</td>\n",
       "      <td>100.0</td>\n",
       "      <td>0.0</td>\n",
       "      <td>0.0</td>\n",
       "      <td>0.0</td>\n",
       "      <td>0.0</td>\n",
       "      <td>0.0</td>\n",
       "      <td>2000-10-17</td>\n",
       "      <td>2000-10-23</td>\n",
       "      <td>1</td>\n",
       "    </tr>\n",
       "    <tr>\n",
       "      <th>8284</th>\n",
       "      <td>2000-10-10</td>\n",
       "      <td>6001</td>\n",
       "      <td>Alameda County</td>\n",
       "      <td>CA</td>\n",
       "      <td>100.0</td>\n",
       "      <td>0.0</td>\n",
       "      <td>0.0</td>\n",
       "      <td>0.0</td>\n",
       "      <td>0.0</td>\n",
       "      <td>0.0</td>\n",
       "      <td>2000-10-10</td>\n",
       "      <td>2000-10-16</td>\n",
       "      <td>1</td>\n",
       "    </tr>\n",
       "  </tbody>\n",
       "</table>\n",
       "</div>"
      ],
      "text/plain": [
       "     releaseDate  FIPS          county state   NONE   D0   D1   D2   D3   D4  \\\n",
       "8280  2000-11-07  6001  Alameda County    CA  100.0  0.0  0.0  0.0  0.0  0.0   \n",
       "8281  2000-10-31  6001  Alameda County    CA  100.0  0.0  0.0  0.0  0.0  0.0   \n",
       "8282  2000-10-24  6001  Alameda County    CA  100.0  0.0  0.0  0.0  0.0  0.0   \n",
       "8283  2000-10-17  6001  Alameda County    CA  100.0  0.0  0.0  0.0  0.0  0.0   \n",
       "8284  2000-10-10  6001  Alameda County    CA  100.0  0.0  0.0  0.0  0.0  0.0   \n",
       "\n",
       "      validStart    validEnd  domStatisticFormatID  \n",
       "8280  2000-11-07  2000-11-13                     1  \n",
       "8281  2000-10-31  2000-11-06                     1  \n",
       "8282  2000-10-24  2000-10-30                     1  \n",
       "8283  2000-10-17  2000-10-23                     1  \n",
       "8284  2000-10-10  2000-10-16                     1  "
      ]
     },
     "execution_count": 8,
     "metadata": {},
     "output_type": "execute_result"
    }
   ],
   "source": [
    "# As this data set is pretty broad, let's scale it down to\n",
    "# something familiar and just observe California\n",
    "df = (df[df[\"state\"] == 'CA'])\n",
    "df.head()"
   ]
  },
  {
   "cell_type": "code",
   "execution_count": 16,
   "metadata": {
    "ExecuteTime": {
     "end_time": "2019-07-03T13:14:53.302039Z",
     "start_time": "2019-07-03T13:14:53.293565Z"
    }
   },
   "outputs": [
    {
     "data": {
      "text/plain": [
       "112"
      ]
     },
     "execution_count": 16,
     "metadata": {},
     "output_type": "execute_result"
    }
   ],
   "source": [
    "len(df[(df['county'] =='Alameda County') & (df['D4'] > 0.0)])"
   ]
  },
  {
   "cell_type": "code",
   "execution_count": 74,
   "metadata": {
    "ExecuteTime": {
     "end_time": "2019-07-03T14:46:21.736997Z",
     "start_time": "2019-07-03T14:46:21.718836Z"
    }
   },
   "outputs": [
    {
     "data": {
      "text/html": [
       "<div>\n",
       "<style scoped>\n",
       "    .dataframe tbody tr th:only-of-type {\n",
       "        vertical-align: middle;\n",
       "    }\n",
       "\n",
       "    .dataframe tbody tr th {\n",
       "        vertical-align: top;\n",
       "    }\n",
       "\n",
       "    .dataframe thead th {\n",
       "        text-align: right;\n",
       "    }\n",
       "</style>\n",
       "<table border=\"1\" class=\"dataframe\">\n",
       "  <thead>\n",
       "    <tr style=\"text-align: right;\">\n",
       "      <th></th>\n",
       "      <th>releaseDate</th>\n",
       "      <th>FIPS</th>\n",
       "      <th>county</th>\n",
       "      <th>state</th>\n",
       "      <th>NONE</th>\n",
       "      <th>D0</th>\n",
       "      <th>D1</th>\n",
       "      <th>D2</th>\n",
       "      <th>D3</th>\n",
       "      <th>D4</th>\n",
       "      <th>validStart</th>\n",
       "      <th>validEnd</th>\n",
       "      <th>domStatisticFormatID</th>\n",
       "    </tr>\n",
       "  </thead>\n",
       "  <tbody>\n",
       "    <tr>\n",
       "      <th>10260</th>\n",
       "      <td>2000-11-07</td>\n",
       "      <td>6089</td>\n",
       "      <td>Shasta County</td>\n",
       "      <td>CA</td>\n",
       "      <td>100.0</td>\n",
       "      <td>0.0</td>\n",
       "      <td>0.0</td>\n",
       "      <td>0.0</td>\n",
       "      <td>0.0</td>\n",
       "      <td>0.0</td>\n",
       "      <td>2000-11-07</td>\n",
       "      <td>2000-11-13</td>\n",
       "      <td>1</td>\n",
       "    </tr>\n",
       "    <tr>\n",
       "      <th>10261</th>\n",
       "      <td>2000-10-31</td>\n",
       "      <td>6089</td>\n",
       "      <td>Shasta County</td>\n",
       "      <td>CA</td>\n",
       "      <td>100.0</td>\n",
       "      <td>0.0</td>\n",
       "      <td>0.0</td>\n",
       "      <td>0.0</td>\n",
       "      <td>0.0</td>\n",
       "      <td>0.0</td>\n",
       "      <td>2000-10-31</td>\n",
       "      <td>2000-11-06</td>\n",
       "      <td>1</td>\n",
       "    </tr>\n",
       "    <tr>\n",
       "      <th>10262</th>\n",
       "      <td>2000-10-24</td>\n",
       "      <td>6089</td>\n",
       "      <td>Shasta County</td>\n",
       "      <td>CA</td>\n",
       "      <td>100.0</td>\n",
       "      <td>0.0</td>\n",
       "      <td>0.0</td>\n",
       "      <td>0.0</td>\n",
       "      <td>0.0</td>\n",
       "      <td>0.0</td>\n",
       "      <td>2000-10-24</td>\n",
       "      <td>2000-10-30</td>\n",
       "      <td>1</td>\n",
       "    </tr>\n",
       "    <tr>\n",
       "      <th>10263</th>\n",
       "      <td>2000-10-17</td>\n",
       "      <td>6089</td>\n",
       "      <td>Shasta County</td>\n",
       "      <td>CA</td>\n",
       "      <td>100.0</td>\n",
       "      <td>0.0</td>\n",
       "      <td>0.0</td>\n",
       "      <td>0.0</td>\n",
       "      <td>0.0</td>\n",
       "      <td>0.0</td>\n",
       "      <td>2000-10-17</td>\n",
       "      <td>2000-10-23</td>\n",
       "      <td>1</td>\n",
       "    </tr>\n",
       "    <tr>\n",
       "      <th>10264</th>\n",
       "      <td>2000-10-10</td>\n",
       "      <td>6089</td>\n",
       "      <td>Shasta County</td>\n",
       "      <td>CA</td>\n",
       "      <td>100.0</td>\n",
       "      <td>0.0</td>\n",
       "      <td>0.0</td>\n",
       "      <td>0.0</td>\n",
       "      <td>0.0</td>\n",
       "      <td>0.0</td>\n",
       "      <td>2000-10-10</td>\n",
       "      <td>2000-10-16</td>\n",
       "      <td>1</td>\n",
       "    </tr>\n",
       "  </tbody>\n",
       "</table>\n",
       "</div>"
      ],
      "text/plain": [
       "      releaseDate  FIPS         county state   NONE   D0   D1   D2   D3   D4  \\\n",
       "10260  2000-11-07  6089  Shasta County    CA  100.0  0.0  0.0  0.0  0.0  0.0   \n",
       "10261  2000-10-31  6089  Shasta County    CA  100.0  0.0  0.0  0.0  0.0  0.0   \n",
       "10262  2000-10-24  6089  Shasta County    CA  100.0  0.0  0.0  0.0  0.0  0.0   \n",
       "10263  2000-10-17  6089  Shasta County    CA  100.0  0.0  0.0  0.0  0.0  0.0   \n",
       "10264  2000-10-10  6089  Shasta County    CA  100.0  0.0  0.0  0.0  0.0  0.0   \n",
       "\n",
       "       validStart    validEnd  domStatisticFormatID  \n",
       "10260  2000-11-07  2000-11-13                     1  \n",
       "10261  2000-10-31  2000-11-06                     1  \n",
       "10262  2000-10-24  2000-10-30                     1  \n",
       "10263  2000-10-17  2000-10-23                     1  \n",
       "10264  2000-10-10  2000-10-16                     1  "
      ]
     },
     "execution_count": 74,
     "metadata": {},
     "output_type": "execute_result"
    }
   ],
   "source": [
    "df[(df['county'] =='Shasta County')].head()"
   ]
  },
  {
   "cell_type": "markdown",
   "metadata": {},
   "source": [
    "## First lets observe the percentage of the time each county has been in extreme drought.  After some observation of the data set, each data entry is once every week, so this should be pretty accurate"
   ]
  },
  {
   "cell_type": "code",
   "execution_count": 39,
   "metadata": {
    "ExecuteTime": {
     "end_time": "2019-07-03T13:48:14.024202Z",
     "start_time": "2019-07-03T13:48:13.698509Z"
    }
   },
   "outputs": [],
   "source": [
    "ext_drought = {}\n",
    "for county in df.county.unique():\n",
    "    pct = len(df[(df['county'] == county) & (df['D4'] > 0.0)])/len(df[(df['county'] ==county)])\n",
    "    ext_drought[county] = pct"
   ]
  },
  {
   "cell_type": "code",
   "execution_count": 40,
   "metadata": {
    "ExecuteTime": {
     "end_time": "2019-07-03T13:48:14.221921Z",
     "start_time": "2019-07-03T13:48:14.218296Z"
    }
   },
   "outputs": [],
   "source": [
    "# Split the data into two dictionarys so it is easier to read graphically\n",
    "dict2 = {}\n",
    "klist = []\n",
    "\n",
    "for key in ext_drought:\n",
    "    if ext_drought[key] > .11: # some criterion\n",
    "        dict2[key] = ext_drought[key]\n",
    "        klist.append(key)\n",
    "\n",
    "for key in klist:\n",
    "    del ext_drought[key]"
   ]
  },
  {
   "cell_type": "code",
   "execution_count": 41,
   "metadata": {
    "ExecuteTime": {
     "end_time": "2019-07-03T13:48:15.055206Z",
     "start_time": "2019-07-03T13:48:14.858625Z"
    },
    "scrolled": true
   },
   "outputs": [
    {
     "data": {
      "image/png": "[encoded data removed]",
      "text/plain": [
       "<Figure size 432x288 with 1 Axes>"
      ]
     },
     "metadata": {
      "needs_background": "light"
     },
     "output_type": "display_data"
    }
   ],
   "source": [
    "# This scatter plot shows all the counties that were in extreme draught\n",
    "# less than 11% of the time\n",
    "plt.scatter(list(ext_drought.values()), list(ext_drought.keys()))\n",
    "axes = plt.gca()\n",
    "plt.show()\n"
   ]
  },
  {
   "cell_type": "code",
   "execution_count": null,
   "metadata": {},
   "outputs": [],
   "source": [
    "# The counties with no extreme drought are Northern Coastal counties, with the \n",
    "# exception of San Diego county (we will address this later, because this part\n",
    "# of the data does not make sense).  In general, these counties are northern,\n",
    "# more coastal or more mountainous counties."
   ]
  },
  {
   "cell_type": "code",
   "execution_count": 42,
   "metadata": {
    "ExecuteTime": {
     "end_time": "2019-07-03T13:48:16.793549Z",
     "start_time": "2019-07-03T13:48:16.628688Z"
    }
   },
   "outputs": [
    {
     "data": {
      "image/png": "[encoded data removed]",
      "text/plain": [
       "<Figure size 432x288 with 1 Axes>"
      ]
     },
     "metadata": {
      "needs_background": "light"
     },
     "output_type": "display_data"
    }
   ],
   "source": [
    "# This second plot shows counties that were in draught \n",
    "plt.scatter(list(dict2.values()), list(dict2.keys()))\n",
    "axes = plt.gca()\n",
    "plt.show()\n"
   ]
  },
  {
   "cell_type": "code",
   "execution_count": null,
   "metadata": {},
   "outputs": [],
   "source": [
    "# It is fairly easy to see that the majority of counties that are in \n",
    "# extreme drought >11% of the time are typically southern counties or sometimes\n",
    "# simply inland counties."
   ]
  },
  {
   "cell_type": "markdown",
   "metadata": {},
   "source": [
    "## Now let's observe the percentage of the time each county was not experiencing any drought conditions."
   ]
  },
  {
   "cell_type": "code",
   "execution_count": 67,
   "metadata": {
    "ExecuteTime": {
     "end_time": "2019-07-03T14:16:51.698128Z",
     "start_time": "2019-07-03T14:16:51.359601Z"
    }
   },
   "outputs": [
    {
     "data": {
      "text/plain": [
       "1.0"
      ]
     },
     "execution_count": 67,
     "metadata": {},
     "output_type": "execute_result"
    }
   ],
   "source": [
    "no_drought = {}\n",
    "for county in df.county.unique():\n",
    "    pct = len(df[(df['county'] == county) & (df['NONE'] == 100.0)])/len(df[(df['county'] ==county)])\n",
    "    no_drought[county] = pct\n",
    "len(no_drought)/len(df.county.unique())"
   ]
  },
  {
   "cell_type": "code",
   "execution_count": 68,
   "metadata": {
    "ExecuteTime": {
     "end_time": "2019-07-03T14:16:51.898579Z",
     "start_time": "2019-07-03T14:16:51.892679Z"
    }
   },
   "outputs": [
    {
     "data": {
      "text/plain": [
       "(29, 29)"
      ]
     },
     "execution_count": 68,
     "metadata": {},
     "output_type": "execute_result"
    }
   ],
   "source": [
    "# Let's split our data into two dicts again for readibility of the graphs\n",
    "dict2 = {}\n",
    "klist = []\n",
    "\n",
    "for key in no_drought:\n",
    "    if no_drought[key] > .38: # some criterion\n",
    "        dict2[key] = no_drought[key]\n",
    "        klist.append(key)\n",
    "\n",
    "for key in klist:\n",
    "    del no_drought[key]\n",
    "\n",
    "len(no_drought), len(dict2)"
   ]
  },
  {
   "cell_type": "code",
   "execution_count": 70,
   "metadata": {
    "ExecuteTime": {
     "end_time": "2019-07-03T14:17:36.939580Z",
     "start_time": "2019-07-03T14:17:36.745634Z"
    }
   },
   "outputs": [
    {
     "data": {
      "image/png": "[encoded data removed]",
      "text/plain": [
       "<Figure size 432x288 with 1 Axes>"
      ]
     },
     "metadata": {
      "needs_background": "light"
     },
     "output_type": "display_data"
    }
   ],
   "source": [
    "plt.scatter(list(no_drought.values()), list(no_drought.keys()))\n",
    "axes = plt.gca()\n",
    "plt.show()"
   ]
  },
  {
   "cell_type": "code",
   "execution_count": 71,
   "metadata": {
    "ExecuteTime": {
     "end_time": "2019-07-03T14:18:32.674534Z",
     "start_time": "2019-07-03T14:18:32.494140Z"
    }
   },
   "outputs": [
    {
     "data": {
      "image/png": "[encoded data removed]",
      "text/plain": [
       "<Figure size 432x288 with 1 Axes>"
      ]
     },
     "metadata": {
      "needs_background": "light"
     },
     "output_type": "display_data"
    }
   ],
   "source": [
    "plt.scatter(list(dict2.values()), list(dict2.keys()))\n",
    "axes = plt.gca()\n",
    "plt.show()"
   ]
  },
  {
   "cell_type": "code",
   "execution_count": 72,
   "metadata": {
    "ExecuteTime": {
     "end_time": "2019-07-03T14:31:28.793337Z",
     "start_time": "2019-07-03T14:31:28.791108Z"
    }
   },
   "outputs": [],
   "source": [
    "# As should be expected, this information is a bit of the converse of the \n",
    "# previous data.  Our most drought-free counties are our Northern Coastal\n",
    "# counties (Del Norte, Humboldt, Sonoma) while our most drought prone counties\n",
    "# are in the south.  This starts to answer the question about San Diego because\n",
    "# while it was never really in severe drought, the area is also very rarely\n",
    "# drought free. This also answers some curiousities I had about the northern\n",
    "# inland counties. While they are not so frequently in extreme drought, they \n",
    "# are very rarely drought free (Siskiyou, Shasta, etc)."
   ]
  },
  {
   "cell_type": "markdown",
   "metadata": {},
   "source": [
    "## Now lets consider a drought time line of a specific county.  In this example I have selected Shasta County, as I find it to be an interesting location to observe drought as it is both notoriously hot and functions as one of the main water storage counties in the state.  Shasta County is also my home county."
   ]
  },
  {
   "cell_type": "code",
   "execution_count": 75,
   "metadata": {
    "ExecuteTime": {
     "end_time": "2019-07-03T23:38:29.121541Z",
     "start_time": "2019-07-03T23:38:29.119449Z"
    }
   },
   "outputs": [],
   "source": [
    "# Our scale of drought severity will be from 0-500, or rather the sum of\n",
    "# D0, D1, D2, D3, D4 over time.  We would assume that the drought conditions\n",
    "# would be more drastic during summer months and mild during the rainy season"
   ]
  },
  {
   "cell_type": "code",
   "execution_count": 78,
   "metadata": {
    "ExecuteTime": {
     "end_time": "2019-07-03T23:40:45.949681Z",
     "start_time": "2019-07-03T23:40:45.943257Z"
    }
   },
   "outputs": [],
   "source": [
    "shasta = df[(df['county'] =='Shasta County')]"
   ]
  },
  {
   "cell_type": "code",
   "execution_count": 79,
   "metadata": {
    "ExecuteTime": {
     "end_time": "2019-07-03T23:40:54.251927Z",
     "start_time": "2019-07-03T23:40:54.247103Z"
    }
   },
   "outputs": [
    {
     "data": {
      "text/plain": [
       "releaseDate              object\n",
       "FIPS                      int64\n",
       "county                   object\n",
       "state                    object\n",
       "NONE                    float64\n",
       "D0                      float64\n",
       "D1                      float64\n",
       "D2                      float64\n",
       "D3                      float64\n",
       "D4                      float64\n",
       "validStart               object\n",
       "validEnd                 object\n",
       "domStatisticFormatID      int64\n",
       "dtype: object"
      ]
     },
     "execution_count": 79,
     "metadata": {},
     "output_type": "execute_result"
    }
   ],
   "source": [
    "shasta.dtypes"
   ]
  },
  {
   "cell_type": "code",
   "execution_count": 80,
   "metadata": {
    "ExecuteTime": {
     "end_time": "2019-07-03T23:42:52.738050Z",
     "start_time": "2019-07-03T23:42:52.723988Z"
    }
   },
   "outputs": [
    {
     "data": {
      "text/html": [
       "<div>\n",
       "<style scoped>\n",
       "    .dataframe tbody tr th:only-of-type {\n",
       "        vertical-align: middle;\n",
       "    }\n",
       "\n",
       "    .dataframe tbody tr th {\n",
       "        vertical-align: top;\n",
       "    }\n",
       "\n",
       "    .dataframe thead th {\n",
       "        text-align: right;\n",
       "    }\n",
       "</style>\n",
       "<table border=\"1\" class=\"dataframe\">\n",
       "  <thead>\n",
       "    <tr style=\"text-align: right;\">\n",
       "      <th></th>\n",
       "      <th>releaseDate</th>\n",
       "      <th>FIPS</th>\n",
       "      <th>county</th>\n",
       "      <th>state</th>\n",
       "      <th>NONE</th>\n",
       "      <th>D0</th>\n",
       "      <th>D1</th>\n",
       "      <th>D2</th>\n",
       "      <th>D3</th>\n",
       "      <th>D4</th>\n",
       "      <th>validStart</th>\n",
       "      <th>validEnd</th>\n",
       "      <th>domStatisticFormatID</th>\n",
       "    </tr>\n",
       "  </thead>\n",
       "  <tbody>\n",
       "    <tr>\n",
       "      <th>10260</th>\n",
       "      <td>2000-11-07</td>\n",
       "      <td>6089</td>\n",
       "      <td>Shasta County</td>\n",
       "      <td>CA</td>\n",
       "      <td>100.0</td>\n",
       "      <td>0.0</td>\n",
       "      <td>0.0</td>\n",
       "      <td>0.0</td>\n",
       "      <td>0.0</td>\n",
       "      <td>0.0</td>\n",
       "      <td>2000-11-07</td>\n",
       "      <td>2000-11-13</td>\n",
       "      <td>1</td>\n",
       "    </tr>\n",
       "    <tr>\n",
       "      <th>10261</th>\n",
       "      <td>2000-10-31</td>\n",
       "      <td>6089</td>\n",
       "      <td>Shasta County</td>\n",
       "      <td>CA</td>\n",
       "      <td>100.0</td>\n",
       "      <td>0.0</td>\n",
       "      <td>0.0</td>\n",
       "      <td>0.0</td>\n",
       "      <td>0.0</td>\n",
       "      <td>0.0</td>\n",
       "      <td>2000-10-31</td>\n",
       "      <td>2000-11-06</td>\n",
       "      <td>1</td>\n",
       "    </tr>\n",
       "    <tr>\n",
       "      <th>10262</th>\n",
       "      <td>2000-10-24</td>\n",
       "      <td>6089</td>\n",
       "      <td>Shasta County</td>\n",
       "      <td>CA</td>\n",
       "      <td>100.0</td>\n",
       "      <td>0.0</td>\n",
       "      <td>0.0</td>\n",
       "      <td>0.0</td>\n",
       "      <td>0.0</td>\n",
       "      <td>0.0</td>\n",
       "      <td>2000-10-24</td>\n",
       "      <td>2000-10-30</td>\n",
       "      <td>1</td>\n",
       "    </tr>\n",
       "    <tr>\n",
       "      <th>10263</th>\n",
       "      <td>2000-10-17</td>\n",
       "      <td>6089</td>\n",
       "      <td>Shasta County</td>\n",
       "      <td>CA</td>\n",
       "      <td>100.0</td>\n",
       "      <td>0.0</td>\n",
       "      <td>0.0</td>\n",
       "      <td>0.0</td>\n",
       "      <td>0.0</td>\n",
       "      <td>0.0</td>\n",
       "      <td>2000-10-17</td>\n",
       "      <td>2000-10-23</td>\n",
       "      <td>1</td>\n",
       "    </tr>\n",
       "    <tr>\n",
       "      <th>10264</th>\n",
       "      <td>2000-10-10</td>\n",
       "      <td>6089</td>\n",
       "      <td>Shasta County</td>\n",
       "      <td>CA</td>\n",
       "      <td>100.0</td>\n",
       "      <td>0.0</td>\n",
       "      <td>0.0</td>\n",
       "      <td>0.0</td>\n",
       "      <td>0.0</td>\n",
       "      <td>0.0</td>\n",
       "      <td>2000-10-10</td>\n",
       "      <td>2000-10-16</td>\n",
       "      <td>1</td>\n",
       "    </tr>\n",
       "  </tbody>\n",
       "</table>\n",
       "</div>"
      ],
      "text/plain": [
       "      releaseDate  FIPS         county state   NONE   D0   D1   D2   D3   D4  \\\n",
       "10260  2000-11-07  6089  Shasta County    CA  100.0  0.0  0.0  0.0  0.0  0.0   \n",
       "10261  2000-10-31  6089  Shasta County    CA  100.0  0.0  0.0  0.0  0.0  0.0   \n",
       "10262  2000-10-24  6089  Shasta County    CA  100.0  0.0  0.0  0.0  0.0  0.0   \n",
       "10263  2000-10-17  6089  Shasta County    CA  100.0  0.0  0.0  0.0  0.0  0.0   \n",
       "10264  2000-10-10  6089  Shasta County    CA  100.0  0.0  0.0  0.0  0.0  0.0   \n",
       "\n",
       "       validStart    validEnd  domStatisticFormatID  \n",
       "10260  2000-11-07  2000-11-13                     1  \n",
       "10261  2000-10-31  2000-11-06                     1  \n",
       "10262  2000-10-24  2000-10-30                     1  \n",
       "10263  2000-10-17  2000-10-23                     1  \n",
       "10264  2000-10-10  2000-10-16                     1  "
      ]
     },
     "execution_count": 80,
     "metadata": {},
     "output_type": "execute_result"
    }
   ],
   "source": [
    "shasta.head()"
   ]
  },
  {
   "cell_type": "code",
   "execution_count": 88,
   "metadata": {
    "ExecuteTime": {
     "end_time": "2019-07-03T23:54:42.426631Z",
     "start_time": "2019-07-03T23:54:42.106213Z"
    }
   },
   "outputs": [
    {
     "name": "stderr",
     "output_type": "stream",
     "text": [
      "/anaconda3/lib/python3.7/site-packages/ipykernel_launcher.py:1: SettingWithCopyWarning: \n",
      "A value is trying to be set on a copy of a slice from a DataFrame.\n",
      "Try using .loc[row_indexer,col_indexer] = value instead\n",
      "\n",
      "See the caveats in the documentation: http://pandas.pydata.org/pandas-docs/stable/indexing.html#indexing-view-versus-copy\n",
      "  \"\"\"Entry point for launching an IPython kernel.\n"
     ]
    }
   ],
   "source": [
    "shasta[\"release_date\"] = shasta['releaseDate'].str.replace('[^\\w\\s]','')"
   ]
  },
  {
   "cell_type": "code",
   "execution_count": 90,
   "metadata": {
    "ExecuteTime": {
     "end_time": "2019-07-03T23:55:00.256697Z",
     "start_time": "2019-07-03T23:55:00.241789Z"
    }
   },
   "outputs": [
    {
     "data": {
      "text/html": [
       "<div>\n",
       "<style scoped>\n",
       "    .dataframe tbody tr th:only-of-type {\n",
       "        vertical-align: middle;\n",
       "    }\n",
       "\n",
       "    .dataframe tbody tr th {\n",
       "        vertical-align: top;\n",
       "    }\n",
       "\n",
       "    .dataframe thead th {\n",
       "        text-align: right;\n",
       "    }\n",
       "</style>\n",
       "<table border=\"1\" class=\"dataframe\">\n",
       "  <thead>\n",
       "    <tr style=\"text-align: right;\">\n",
       "      <th></th>\n",
       "      <th>releaseDate</th>\n",
       "      <th>FIPS</th>\n",
       "      <th>county</th>\n",
       "      <th>state</th>\n",
       "      <th>NONE</th>\n",
       "      <th>D0</th>\n",
       "      <th>D1</th>\n",
       "      <th>D2</th>\n",
       "      <th>D3</th>\n",
       "      <th>D4</th>\n",
       "      <th>validStart</th>\n",
       "      <th>validEnd</th>\n",
       "      <th>domStatisticFormatID</th>\n",
       "      <th>release_date</th>\n",
       "    </tr>\n",
       "  </thead>\n",
       "  <tbody>\n",
       "    <tr>\n",
       "      <th>10260</th>\n",
       "      <td>20001107</td>\n",
       "      <td>6089</td>\n",
       "      <td>Shasta County</td>\n",
       "      <td>CA</td>\n",
       "      <td>100.0</td>\n",
       "      <td>0.0</td>\n",
       "      <td>0.0</td>\n",
       "      <td>0.0</td>\n",
       "      <td>0.0</td>\n",
       "      <td>0.0</td>\n",
       "      <td>2000-11-07</td>\n",
       "      <td>2000-11-13</td>\n",
       "      <td>1</td>\n",
       "      <td>20001107</td>\n",
       "    </tr>\n",
       "    <tr>\n",
       "      <th>10261</th>\n",
       "      <td>20001031</td>\n",
       "      <td>6089</td>\n",
       "      <td>Shasta County</td>\n",
       "      <td>CA</td>\n",
       "      <td>100.0</td>\n",
       "      <td>0.0</td>\n",
       "      <td>0.0</td>\n",
       "      <td>0.0</td>\n",
       "      <td>0.0</td>\n",
       "      <td>0.0</td>\n",
       "      <td>2000-10-31</td>\n",
       "      <td>2000-11-06</td>\n",
       "      <td>1</td>\n",
       "      <td>20001031</td>\n",
       "    </tr>\n",
       "    <tr>\n",
       "      <th>10262</th>\n",
       "      <td>20001024</td>\n",
       "      <td>6089</td>\n",
       "      <td>Shasta County</td>\n",
       "      <td>CA</td>\n",
       "      <td>100.0</td>\n",
       "      <td>0.0</td>\n",
       "      <td>0.0</td>\n",
       "      <td>0.0</td>\n",
       "      <td>0.0</td>\n",
       "      <td>0.0</td>\n",
       "      <td>2000-10-24</td>\n",
       "      <td>2000-10-30</td>\n",
       "      <td>1</td>\n",
       "      <td>20001024</td>\n",
       "    </tr>\n",
       "    <tr>\n",
       "      <th>10263</th>\n",
       "      <td>20001017</td>\n",
       "      <td>6089</td>\n",
       "      <td>Shasta County</td>\n",
       "      <td>CA</td>\n",
       "      <td>100.0</td>\n",
       "      <td>0.0</td>\n",
       "      <td>0.0</td>\n",
       "      <td>0.0</td>\n",
       "      <td>0.0</td>\n",
       "      <td>0.0</td>\n",
       "      <td>2000-10-17</td>\n",
       "      <td>2000-10-23</td>\n",
       "      <td>1</td>\n",
       "      <td>20001017</td>\n",
       "    </tr>\n",
       "    <tr>\n",
       "      <th>10264</th>\n",
       "      <td>20001010</td>\n",
       "      <td>6089</td>\n",
       "      <td>Shasta County</td>\n",
       "      <td>CA</td>\n",
       "      <td>100.0</td>\n",
       "      <td>0.0</td>\n",
       "      <td>0.0</td>\n",
       "      <td>0.0</td>\n",
       "      <td>0.0</td>\n",
       "      <td>0.0</td>\n",
       "      <td>2000-10-10</td>\n",
       "      <td>2000-10-16</td>\n",
       "      <td>1</td>\n",
       "      <td>20001010</td>\n",
       "    </tr>\n",
       "  </tbody>\n",
       "</table>\n",
       "</div>"
      ],
      "text/plain": [
       "      releaseDate  FIPS         county state   NONE   D0   D1   D2   D3   D4  \\\n",
       "10260    20001107  6089  Shasta County    CA  100.0  0.0  0.0  0.0  0.0  0.0   \n",
       "10261    20001031  6089  Shasta County    CA  100.0  0.0  0.0  0.0  0.0  0.0   \n",
       "10262    20001024  6089  Shasta County    CA  100.0  0.0  0.0  0.0  0.0  0.0   \n",
       "10263    20001017  6089  Shasta County    CA  100.0  0.0  0.0  0.0  0.0  0.0   \n",
       "10264    20001010  6089  Shasta County    CA  100.0  0.0  0.0  0.0  0.0  0.0   \n",
       "\n",
       "       validStart    validEnd  domStatisticFormatID release_date  \n",
       "10260  2000-11-07  2000-11-13                     1     20001107  \n",
       "10261  2000-10-31  2000-11-06                     1     20001031  \n",
       "10262  2000-10-24  2000-10-30                     1     20001024  \n",
       "10263  2000-10-17  2000-10-23                     1     20001017  \n",
       "10264  2000-10-10  2000-10-16                     1     20001010  "
      ]
     },
     "execution_count": 90,
     "metadata": {},
     "output_type": "execute_result"
    }
   ],
   "source": [
    "df1 = "
   ]
  },
  {
   "cell_type": "code",
   "execution_count": 92,
   "metadata": {
    "ExecuteTime": {
     "end_time": "2019-07-03T23:59:00.971645Z",
     "start_time": "2019-07-03T23:59:00.645957Z"
    }
   },
   "outputs": [
    {
     "name": "stderr",
     "output_type": "stream",
     "text": [
      "/anaconda3/lib/python3.7/site-packages/ipykernel_launcher.py:1: SettingWithCopyWarning: \n",
      "A value is trying to be set on a copy of a slice from a DataFrame.\n",
      "Try using .loc[row_indexer,col_indexer] = value instead\n",
      "\n",
      "See the caveats in the documentation: http://pandas.pydata.org/pandas-docs/stable/indexing.html#indexing-view-versus-copy\n",
      "  \"\"\"Entry point for launching an IPython kernel.\n"
     ]
    }
   ],
   "source": [
    "shasta[\"releaseDate\"] = pd.to_numeric(shasta[\"releaseDate\"])"
   ]
  },
  {
   "cell_type": "code",
   "execution_count": 94,
   "metadata": {
    "ExecuteTime": {
     "end_time": "2019-07-04T00:00:18.233520Z",
     "start_time": "2019-07-04T00:00:18.230020Z"
    }
   },
   "outputs": [],
   "source": [
    "df1 = shasta.sort_values(by=['releaseDate'])"
   ]
  },
  {
   "cell_type": "code",
   "execution_count": 95,
   "metadata": {
    "ExecuteTime": {
     "end_time": "2019-07-04T00:01:15.564370Z",
     "start_time": "2019-07-04T00:01:15.562296Z"
    }
   },
   "outputs": [],
   "source": [
    "# Now we have all of shasta counties data sorted by release date in the format\n",
    "# YYYYMMDD, which although seems awkward, works really well for our uses.\n",
    "# Now lets modify our drought column to be the sum of all the drought columns"
   ]
  },
  {
   "cell_type": "code",
   "execution_count": 96,
   "metadata": {
    "ExecuteTime": {
     "end_time": "2019-07-04T00:03:34.630784Z",
     "start_time": "2019-07-04T00:03:34.612330Z"
    }
   },
   "outputs": [],
   "source": [
    "df1['DSUM'] = df1['D0'] + df1['D1'] + df1['D2'] + df1['D3'] + df1['D4']"
   ]
  },
  {
   "cell_type": "code",
   "execution_count": 101,
   "metadata": {
    "ExecuteTime": {
     "end_time": "2019-07-04T00:07:37.937712Z",
     "start_time": "2019-07-04T00:07:37.934415Z"
    }
   },
   "outputs": [],
   "source": [
    "dict1 = pd.Series(df1.DSUM.values,index=df1.releaseDate).to_dict()"
   ]
  },
  {
   "cell_type": "code",
   "execution_count": null,
   "metadata": {},
   "outputs": [],
   "source": []
  }
 ],
 "metadata": {
  "kernelspec": {
   "display_name": "Python 3",
   "language": "python",
   "name": "python3"
  },
  "language_info": {
   "codemirror_mode": {
    "name": "ipython",
    "version": 3
   },
   "file_extension": ".py",
   "mimetype": "text/x-python",
   "name": "python",
   "nbconvert_exporter": "python",
   "pygments_lexer": "ipython3",
   "version": "3.7.3"
  },
  "toc": {
   "base_numbering": 1,
   "nav_menu": {},
   "number_sections": true,
   "sideBar": true,
   "skip_h1_title": false,
   "title_cell": "Table of Contents",
   "title_sidebar": "Contents",
   "toc_cell": false,
   "toc_position": {},
   "toc_section_display": true,
   "toc_window_display": false
  },
  "varInspector": {
   "cols": {
    "lenName": 16,
    "lenType": 16,
    "lenVar": 40
   },
   "kernels_config": {
    "python": {
     "delete_cmd_postfix": "",
     "delete_cmd_prefix": "del ",
     "library": "var_list.py",
     "varRefreshCmd": "print(var_dic_list())"
    },
    "r": {
     "delete_cmd_postfix": ") ",
     "delete_cmd_prefix": "rm(",
     "library": "var_list.r",
     "varRefreshCmd": "cat(var_dic_list()) "
    }
   },
   "types_to_exclude": [
    "module",
    "function",
    "builtin_function_or_method",
    "instance",
    "_Feature"
   ],
   "window_display": false
  }
 },
 "nbformat": 4,
 "nbformat_minor": 2
}
